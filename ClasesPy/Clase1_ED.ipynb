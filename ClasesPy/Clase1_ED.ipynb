{
  "cells": [
    {
      "cell_type": "markdown",
      "metadata": {
        "colab_type": "text",
        "id": "view-in-github"
      },
      "source": [
        "<a href=\"https://colab.research.google.com/github/YojanAlcaraz28/EST_DATOS_UNAL/blob/main/Clase1_ED.ipynb\" target=\"_parent\"><img src=\"https://colab.research.google.com/assets/colab-badge.svg\" alt=\"Open In Colab\"/></a>"
      ]
    },
    {
      "attachments": {},
      "cell_type": "markdown",
      "metadata": {},
      "source": [
        "## Clase 1: Arreglos."
      ]
    },
    {
      "cell_type": "code",
      "execution_count": 2,
      "metadata": {
        "colab": {
          "base_uri": "https://localhost:8080/"
        },
        "id": "gJZBgovnqbD5",
        "outputId": "d5bad782-c200-48fe-b032-9a0347a6ca98"
      },
      "outputs": [
        {
          "data": {
            "text/plain": [
              "array([[0. , 0.1, 0.2, 0.3],\n",
              "       [1. , 1.1, 1.2, 1.3],\n",
              "       [2. , 2.1, 2.2, 2.3],\n",
              "       [3. , 3.1, 3.2, 3.3]])"
            ]
          },
          "execution_count": 2,
          "metadata": {},
          "output_type": "execute_result"
        }
      ],
      "source": [
        "import numpy as np\n",
        "\n",
        "# Matriz:\n",
        "matriz = np.array([[0.0,0.1,0.2,0.3],[1.0,1.1,1.2,1.3],[2.0,2.1,2.2,2.3],[3.0,3.1,3.2,3.3]])\n",
        "matriz"
      ]
    },
    {
      "cell_type": "code",
      "execution_count": null,
      "metadata": {
        "colab": {
          "base_uri": "https://localhost:8080/"
        },
        "id": "g3rOJbXFrPDP",
        "outputId": "bb4cce36-6a3c-491b-c3bf-5e401b784026"
      },
      "outputs": [
        {
          "data": {
            "text/plain": [
              "[0.0, 1.1, 2.2, 3.3]"
            ]
          },
          "execution_count": 34,
          "metadata": {},
          "output_type": "execute_result"
        }
      ],
      "source": [
        "# Diagonal principal:\n",
        "diagonal = []\n",
        "for i in range(len(matriz)):\n",
        "  pos = matriz[i][i]\n",
        "  diagonal.append(pos)\n",
        "diagonal"
      ]
    },
    {
      "cell_type": "code",
      "execution_count": 10,
      "metadata": {
        "colab": {
          "base_uri": "https://localhost:8080/"
        },
        "id": "hBIo8dmTtiW3",
        "outputId": "2b1dc688-9dec-4915-88ce-8d5b57a9865a"
      },
      "outputs": [
        {
          "name": "stdout",
          "output_type": "stream",
          "text": [
            "[3.0, 2.1, 1.2, 0.3]\n"
          ]
        }
      ],
      "source": [
        "# Diagonal secundaria:\n",
        "diagonal_sec = []\n",
        "for i in range(len(matriz)):\n",
        "  for j in range(len(matriz)):\n",
        "    if i+j == 3:\n",
        "      pos_2 = matriz[i][j]\n",
        "      diagonal_sec.append(pos_2)\n",
        "diagonal_sec\n",
        "\n",
        "lon = len(diagonal_sec)\n",
        "diagonal_2 = []\n",
        "for i in range(lon-1, -1, -1):\n",
        "  diagonal_2.append(diagonal_sec[i])\n",
        "print(diagonal_2)"
      ]
    },
    {
      "cell_type": "code",
      "execution_count": 25,
      "metadata": {
        "colab": {
          "base_uri": "https://localhost:8080/"
        },
        "id": "0xdlPKp8u1IU",
        "outputId": "a9cb5e26-4fa8-4423-9afe-bd912faaed31"
      },
      "outputs": [
        {
          "data": {
            "text/plain": [
              "[0.1, 0.2, 1.0, 1.3, 2.0, 2.3, 3.1, 3.2]"
            ]
          },
          "execution_count": 25,
          "metadata": {},
          "output_type": "execute_result"
        }
      ],
      "source": [
        "# Elementos intermedios:\n",
        "elementos_int = []\n",
        "for i in range(len(matriz)):\n",
        "  for j in range(len(matriz)):\n",
        "    if i == 0 and j >= 1 and j <= 2:\n",
        "      elementos_int.append(matriz[i][j])\n",
        "    if (i == 1 and j == 0) or (i == 1 and j == 3):\n",
        "      elementos_int.append(matriz[i][j])\n",
        "    if (i == 2 and j == 0) or (i == 2 and j == 3):\n",
        "      elementos_int.append(matriz[i][j])\n",
        "    if i == 3 and j >= 1 and j <= 2:\n",
        "      elementos_int.append(matriz[i][j])\n",
        "elementos_int  "
      ]
    },
    {
      "cell_type": "code",
      "execution_count": 27,
      "metadata": {
        "colab": {
          "base_uri": "https://localhost:8080/"
        },
        "id": "X9XCsEVvwc6b",
        "outputId": "7dcfb738-46b4-45c7-e36d-25605e3fa5e5"
      },
      "outputs": [
        {
          "data": {
            "text/plain": [
              "[0.0, 0.1, 0.2, 0.3, 1.0, 1.3, 2.0, 2.3, 3.0, 3.1, 3.2, 3.3, 3.3]"
            ]
          },
          "execution_count": 27,
          "metadata": {},
          "output_type": "execute_result"
        }
      ],
      "source": [
        "# Bordes de la matriz en sentido de las manecillas del reloj:\n",
        "bordes = []\n",
        "for i in range(len(matriz)):\n",
        "  for j in range(len(matriz)):\n",
        "    if i == 0:\n",
        "      bordes.append(matriz[i][j])\n",
        "    if j == 3 and i >= 1:\n",
        "      bordes.append(matriz[i][j])\n",
        "    if i == 3:\n",
        "      bordes.append(matriz[i][j])\n",
        "    if j == 0 and i >= 1 and i <= 2:\n",
        "      bordes.append(matriz[i][j])\n",
        "bordes"
      ]
    }
  ],
  "metadata": {
    "colab": {
      "authorship_tag": "ABX9TyPQ9KEwsSVWNPtUYohIAeWS",
      "include_colab_link": true,
      "provenance": []
    },
    "kernelspec": {
      "display_name": "Python 3",
      "language": "python",
      "name": "python3"
    },
    "language_info": {
      "name": "python",
      "version": "3.10.4"
    },
    "vscode": {
      "interpreter": {
        "hash": "3ad933181bd8a04b432d3370b9dc3b0662ad032c4dfaa4e4f1596c548f763858"
      }
    }
  },
  "nbformat": 4,
  "nbformat_minor": 0
}
