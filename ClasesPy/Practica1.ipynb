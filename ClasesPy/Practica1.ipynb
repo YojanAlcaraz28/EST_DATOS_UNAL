{
  "cells": [
    {
      "cell_type": "markdown",
      "metadata": {
        "id": "0in8eVI-rVDY"
      },
      "source": [
        "## Práctica 1: Estructura de datos "
      ]
    },
    {
      "attachments": {},
      "cell_type": "markdown",
      "metadata": {},
      "source": [
        "**Estudiante:** Yojan Andrés Alcaraz Pérez\n",
        "\n",
        "Febrero 16 de 2023"
      ]
    },
    {
      "cell_type": "code",
      "execution_count": 1,
      "metadata": {
        "id": "QqlYmF22rFnQ"
      },
      "outputs": [],
      "source": [
        "# Importar librerías necesarias.\n",
        "import random\n",
        "import numpy as np"
      ]
    },
    {
      "cell_type": "markdown",
      "metadata": {
        "id": "GGjAOtA3rbqY"
      },
      "source": [
        "### 1. "
      ]
    },
    {
      "cell_type": "markdown",
      "metadata": {
        "id": "kdQe07j2re2w"
      },
      "source": [
        "Se tiene un arreglo de 20 edades comprendidas entre los 13 y 43 años no repetidas de un\n",
        "estudio realizado en una escuela de primaria, se debe de ordenar el arreglo y buscar la\n",
        "edad de 16 años."
      ]
    },
    {
      "cell_type": "code",
      "execution_count": 2,
      "metadata": {
        "colab": {
          "base_uri": "https://localhost:8080/"
        },
        "id": "tzX2oS9Drce8",
        "outputId": "7f39c45c-9476-4980-c5d2-da5a9e304474"
      },
      "outputs": [
        {
          "name": "stdout",
          "output_type": "stream",
          "text": [
            "La longitud de edades es 20 y la lista es: [20, 22, 16, 36, 25, 28, 17, 15, 40, 13, 39, 30, 42, 14, 43, 24, 37, 33, 35, 32]\n"
          ]
        }
      ],
      "source": [
        "# Generar 20 edades:\n",
        "semillas = list(range(2,10))\n",
        "for i in semillas:\n",
        "    # Establecer una semilla\n",
        "    random.seed(i)\n",
        "    # Generar de manera aleatoria las 20 edades:\n",
        "    edades = random.sample(range(13,44),20)\n",
        "    # Como se necesita buscar la edad 16 se asegura que 16 está en la lista generada\n",
        "    if 16 in edades:\n",
        "        print(\"La longitud de edades es\", len(edades), \"y la lista es:\", edades)\n",
        "        break;\n"
      ]
    },
    {
      "cell_type": "code",
      "execution_count": 3,
      "metadata": {
        "id": "WiwJtsz-r2Bi"
      },
      "outputs": [],
      "source": [
        "# Función algoritmo ordenamiento por selección:\n",
        "def ord_selec(arreglo):\n",
        "    for i in range(len(arreglo)-1):\n",
        "        for j in range(i+1, len(arreglo)):\n",
        "            if arreglo[i] > arreglo[j]:\n",
        "                arreglo[i], arreglo[j] = arreglo[j], arreglo[i]\n",
        "    return arreglo"
      ]
    },
    {
      "cell_type": "code",
      "execution_count": 4,
      "metadata": {
        "colab": {
          "base_uri": "https://localhost:8080/"
        },
        "id": "hVTEiGkgsBoE",
        "outputId": "4c6d4565-e236-4045-e2fe-a6ca0ec63edf"
      },
      "outputs": [
        {
          "name": "stdout",
          "output_type": "stream",
          "text": [
            "La lista ordenada es: [13, 14, 15, 16, 17, 20, 22, 24, 25, 28, 30, 32, 33, 35, 36, 37, 39, 40, 42, 43]\n",
            "La edad 16 está en la posición 3\n",
            "La edad en la posición 3 es 16\n"
          ]
        }
      ],
      "source": [
        "# Ordenar la lista con función de usuario ord_selec():\n",
        "orden_edad = ord_selec(edades)\n",
        "print(\"La lista ordenada es:\", orden_edad)\n",
        "\n",
        "# Extraer la posición de la edad 16:\n",
        "posicion = orden_edad.index(16)\n",
        "print(\"La edad 16 está en la posición\", posicion)\n",
        "print(\"La edad en la posición\" , posicion, \"es\",orden_edad[posicion])"
      ]
    },
    {
      "cell_type": "markdown",
      "metadata": {
        "id": "_f6Lslhtsg7p"
      },
      "source": [
        "### 2."
      ]
    },
    {
      "cell_type": "markdown",
      "metadata": {
        "id": "VvSb8Lj1sj4O"
      },
      "source": [
        "En una empresa de 10 empleados se desea buscar el nombre del empleado que tuvo más ventas en el mes de diciembre. La lista ya está ordenada."
      ]
    },
    {
      "cell_type": "code",
      "execution_count": 9,
      "metadata": {
        "colab": {
          "base_uri": "https://localhost:8080/"
        },
        "id": "eHvSWViesonB",
        "outputId": "485e5526-4c32-457a-cd70-1722ef7fb6b8"
      },
      "outputs": [
        {
          "name": "stdout",
          "output_type": "stream",
          "text": [
            "El empleado con mayor ventas en el mes de diciembre está en la posición 3 y es Carla\n"
          ]
        }
      ],
      "source": [
        "empleados = [\"Ana\",\"Andrés\", \"Camilo\", \"Carla\",\"Carlos\", \"Ramiro\", \"Susana\"]\n",
        "# Si se supone que el empleado con mejor ventas es Carla:\n",
        "mej_empl = \"Carla\"\n",
        "mejor_emp = empleados.index(mej_empl)\n",
        "print(\"El empleado con mayor ventas en el mes de diciembre está en la posición\", mejor_emp, \"y es\", empleados[mejor_emp])"
      ]
    },
    {
      "cell_type": "markdown",
      "metadata": {
        "id": "48TOV6HxtKzQ"
      },
      "source": [
        "### 3.\n"
      ]
    },
    {
      "cell_type": "markdown",
      "metadata": {
        "id": "PqgT151UtL9U"
      },
      "source": [
        "En una entidad se desea buscar por cedula de ciudadanía en la lista de reportes morosos,\n",
        "para determinar si el cliente es apto para realizar un prestamos, lo que indica que el cliente\n",
        "no puede estar en esa lista de 200 usuarios moroso (hacer la prueba con 20 usuarios), la\n",
        "lista no está ordenada"
      ]
    },
    {
      "cell_type": "code",
      "execution_count": 6,
      "metadata": {
        "colab": {
          "base_uri": "https://localhost:8080/"
        },
        "id": "DdtHYMputO3M",
        "outputId": "306240ba-7929-4d88-8209-1583b0cecf05"
      },
      "outputs": [
        {
          "name": "stdout",
          "output_type": "stream",
          "text": [
            "200\n",
            "200\n"
          ]
        }
      ],
      "source": [
        "# Generar 200 usuarios:\n",
        "random.seed(5)\n",
        "id_usuario = random.sample(range(12345,12660),200)\n",
        "print(len(id_usuario))\n",
        "\n",
        "# ¿Está repitiendo usuarios?\n",
        "repeated = set(id_usuario)\n",
        "print(len(repeated))\n",
        "\n",
        "# Ordenar la lista\n",
        "id_usuarios =  ord_selec(id_usuario)"
      ]
    },
    {
      "cell_type": "code",
      "execution_count": 7,
      "metadata": {
        "colab": {
          "base_uri": "https://localhost:8080/"
        },
        "id": "iw9PnmpttZJT",
        "outputId": "0461d482-e419-4231-9818-095a9d8a4564"
      },
      "outputs": [
        {
          "name": "stdout",
          "output_type": "stream",
          "text": [
            "El posible nuevo usuario tiene id 12527\n",
            "El usuario con id 12527  es MOROSO\n"
          ]
        }
      ],
      "source": [
        "# Usuario en cuestión:\n",
        "cedula = random.sample(range(12345,12660),1)\n",
        "cedula = cedula[0]\n",
        "print(\"El posible nuevo usuario tiene id\",cedula)\n",
        "\n",
        "# ¿El usuario es moroso?\n",
        "if cedula in id_usuarios:\n",
        "    print(\"El usuario con id\", cedula, \" es MOROSO\")\n",
        "else:\n",
        "    print(\"El usuario con id\", cedula, \" es APTO para préstamo\")"
      ]
    },
    {
      "cell_type": "markdown",
      "metadata": {
        "id": "j_V_cnGZtgH-"
      },
      "source": [
        "### 4."
      ]
    },
    {
      "cell_type": "markdown",
      "metadata": {
        "id": "VbVkrADRtlxL"
      },
      "source": [
        "Un profesor guarda los datos de sus estudiantes en tres vectores: código, nombre y nota,\n",
        "como se muestra en la siguiente imagen. Se requiere un algoritmo para consultar la nota\n",
        "de un estudiante a partir de su código."
      ]
    },
    {
      "cell_type": "code",
      "execution_count": 90,
      "metadata": {
        "id": "2kgPrUN0tomD"
      },
      "outputs": [],
      "source": [
        "codigos = [123,456,789,156]\n",
        "nombres = [\"Ana\", \"Pedro\", \"Maria\", \"Julian\"]\n",
        "notas = [4,5,4.2,3.5]\n",
        "\n",
        "codigo = 456"
      ]
    },
    {
      "cell_type": "code",
      "execution_count": 91,
      "metadata": {},
      "outputs": [
        {
          "name": "stdout",
          "output_type": "stream",
          "text": [
            "La nota del estudiante Pedro con código 456 es 5\n"
          ]
        }
      ],
      "source": [
        "for i,j in enumerate(codigos):\n",
        "    if j == codigo:\n",
        "        print(\"La nota del estudiante\", nombres[i], \"con código\", codigos[i], \"es\", notas[i])  "
      ]
    },
    {
      "cell_type": "markdown",
      "metadata": {
        "id": "Q1lW1mi8t3DT"
      },
      "source": [
        "### 5"
      ]
    },
    {
      "cell_type": "markdown",
      "metadata": {
        "id": "kz67kO16t4Sd"
      },
      "source": [
        "Se tiene la siguiente lista, se debe ordenar\n",
        "A = [5, 8, 4, 14, 2, 1, 10, 3, 5]"
      ]
    },
    {
      "cell_type": "code",
      "execution_count": null,
      "metadata": {
        "colab": {
          "base_uri": "https://localhost:8080/"
        },
        "id": "5InD-coit6L7",
        "outputId": "13dc63b0-dfa6-404f-fc3c-3532d5bc725a"
      },
      "outputs": [
        {
          "name": "stdout",
          "output_type": "stream",
          "text": [
            "La lista ordenada es: [1, 2, 3, 4, 5, 5, 8, 10, 14]\n"
          ]
        }
      ],
      "source": [
        "# Lista:\n",
        "A = [5, 8, 4, 14, 2, 1, 10, 3, 5]\n",
        "# Ordenamiento por selección:\n",
        "A_ord = ord_selec(A)\n",
        "print(\"La lista ordenada es:\", A_ord)"
      ]
    },
    {
      "cell_type": "markdown",
      "metadata": {
        "id": "W9-hD5hyuKIn"
      },
      "source": [
        "### 6."
      ]
    },
    {
      "cell_type": "markdown",
      "metadata": {
        "id": "wvwXOi39uLhd"
      },
      "source": [
        "Se tiene una lista de edades de 20 estudiantes, ordenarla de forma descendente y hallar el\n",
        "número que se aproxime al promedio de las edades."
      ]
    },
    {
      "cell_type": "code",
      "execution_count": null,
      "metadata": {
        "id": "Fw-7G4rQuPLd"
      },
      "outputs": [],
      "source": [
        "# Función ordenamiento por selección descendente:\n",
        "def ord_selec_desc(arreglo):\n",
        "    for i in range(len(arreglo)-1):\n",
        "        for j in range(i+1, len(arreglo)):\n",
        "            if arreglo[i] < arreglo[j]:\n",
        "                arreglo[i], arreglo[j] = arreglo[j], arreglo[i]\n",
        "    return arreglo"
      ]
    },
    {
      "cell_type": "code",
      "execution_count": null,
      "metadata": {
        "colab": {
          "base_uri": "https://localhost:8080/"
        },
        "id": "FACpLiOlufsI",
        "outputId": "6a9d51c8-78b9-4c75-b554-4a0e4ab65e66"
      },
      "outputs": [
        {
          "name": "stdout",
          "output_type": "stream",
          "text": [
            "La lista de edades es: [25, 19, 39, 33, 32, 26, 37, 27, 20, 22, 30, 36, 34, 24, 21, 23, 18, 17, 31, 38]\n",
            "La lista de edades ordenadas de manera descendente es: [39, 38, 37, 36, 34, 33, 32, 31, 30, 27, 26, 25, 24, 23, 22, 21, 20, 19, 18, 17]\n",
            "El promedio de las 20 edades es: 27.6\n"
          ]
        }
      ],
      "source": [
        "# Generar edades para prueba:\n",
        "edades_est = random.sample(range(16,40),20)\n",
        "print(\"La lista de edades es:\",edades_est)\n",
        "# Ordenar de forma descendente con función de usuario ord_selec_desc()\n",
        "edades_ord = ord_selec_desc(edades_est)\n",
        "print(\"La lista de edades ordenadas de manera descendente es:\",edades_ord)\n",
        "# Promedio de las edades:\n",
        "prom_edades = sum(edades_ord)/len(edades_ord)\n",
        "print(\"El promedio de las 20 edades es:\", prom_edades)"
      ]
    },
    {
      "cell_type": "markdown",
      "metadata": {
        "id": "nWJfjrpUv24n"
      },
      "source": [
        "### 7.\n"
      ]
    },
    {
      "cell_type": "markdown",
      "metadata": {
        "id": "Ff4bXVqSv4Ep"
      },
      "source": [
        "Se tiene una lista de cosas del hogar, B = [“nevera”, “olla”, “lavadora”, “gancho”,” cama”, “televisor”]. Se desea ordenar de forma ascendente"
      ]
    },
    {
      "cell_type": "code",
      "execution_count": null,
      "metadata": {
        "colab": {
          "base_uri": "https://localhost:8080/"
        },
        "id": "4OjvXgOwwBhB",
        "outputId": "338d8015-99f6-4dc4-e215-b520a42ac9c4"
      },
      "outputs": [
        {
          "name": "stdout",
          "output_type": "stream",
          "text": [
            "La lista de cosas de hogar ordenada de forma ascendente es: ['cama', 'gancho', 'lavadora', 'nevera', 'olla', 'televisor']\n"
          ]
        }
      ],
      "source": [
        "B = [\"nevera\", \"olla\", \"lavadora\", \"gancho\", \"cama\", \"televisor\"]\n",
        "B_ord = ord_selec(B)\n",
        "print(\"La lista de cosas de hogar ordenada de forma ascendente es:\",B_ord)"
      ]
    },
    {
      "cell_type": "markdown",
      "metadata": {
        "id": "TOVwCGoiwgnj"
      },
      "source": [
        "### 8."
      ]
    },
    {
      "cell_type": "markdown",
      "metadata": {
        "id": "XGSIUgXhwhyq"
      },
      "source": [
        "En una biblioteca se guarda la información de los libros (código, autor, editorial, año de\n",
        "registro), se desea buscar por el código del libro."
      ]
    },
    {
      "cell_type": "code",
      "execution_count": 99,
      "metadata": {
        "id": "tly7yGF4wii0"
      },
      "outputs": [
        {
          "name": "stdout",
          "output_type": "stream",
          "text": [
            "Libro con código 140, autor Juan Carlos Onetti, editorial Edit 3 y año de registro 2021\n"
          ]
        }
      ],
      "source": [
        "codigo_bib = [120,130,140,150,122]\n",
        "autor = [\"Pablo Neruda\", \"Mario Vargas Llosa\", \"Juan Carlos Onetti\", \"José Martí\" , \"Jorge Luis Borges\"]\n",
        "editorial = [\"Edit 1\", \"Edit 2\", \"Edit 3\",\"Edit 4\",\"Edit 5\"]\n",
        "año_reg = [2010,2011,2021,2018,2022]\n",
        "codigo_bus = 140\n",
        "for i,j in enumerate(codigo_bib):\n",
        "    if j == codigo_bus:\n",
        "        print(f'Libro con código {codigo_bib[i]}, autor {autor[i]}, editorial {editorial[i]} y año de registro {año_reg[i]}')"
      ]
    },
    {
      "cell_type": "markdown",
      "metadata": {
        "id": "yE4w472Zwqt6"
      },
      "source": [
        "### 9."
      ]
    },
    {
      "cell_type": "markdown",
      "metadata": {
        "id": "PE6p3vs2wsnq"
      },
      "source": [
        "Se tiene los datos de la temperatura en grados centígrados que tuvieron en el transcurso\n",
        "del año, las ciudades principales de Colombia están almacenadas de la siguiente manera.\n",
        "\n",
        "\n"
      ]
    },
    {
      "cell_type": "code",
      "execution_count": 102,
      "metadata": {
        "id": "dFlwzOeixYoM"
      },
      "outputs": [],
      "source": [
        "meses = [\"enero\", \"febrero\", \"marzo\", \"abril\", \"mayo\", \"junio\", \"julio\",\"agosto\", \"septiembre\", \"octubre\", \"noviembre\", \"diciembre\"]\n",
        "Bogota = [19, 19,19,18,18,18,17,17,18,18,18,19]\n",
        "Medellin = [25,25,25,25,26,26,26,26,25,25,25,25]\n",
        "Cali = [29,29,29,28,28,28,29,29,29,28,28,28]\n",
        "Barranquilla = [30,30,31,31,32,32,32,32,32,31,31,30]"
      ]
    },
    {
      "cell_type": "markdown",
      "metadata": {
        "id": "Jbyf5J8Sw4I_"
      },
      "source": [
        "#### a."
      ]
    },
    {
      "cell_type": "markdown",
      "metadata": {
        "id": "ulMK6a9Xw5aS"
      },
      "source": [
        "Se desea conocer en el mes de mayo cual fue la ciudad que tuvo una temperatura\n",
        "entre los 25 y 27 grados centígrados."
      ]
    },
    {
      "cell_type": "code",
      "execution_count": 103,
      "metadata": {
        "colab": {
          "base_uri": "https://localhost:8080/"
        },
        "id": "EyYRFdtpzgHP",
        "outputId": "046f09ec-a160-44f3-c5a0-404bc4014697"
      },
      "outputs": [
        {
          "name": "stdout",
          "output_type": "stream",
          "text": [
            "La temperatura entre 25 y 27 °C es 26 °C y se registró en la ciudad Medellin\n"
          ]
        }
      ],
      "source": [
        "# Con listas:\n",
        "ciudades = [Bogota, Medellin, Cali, Barranquilla]\n",
        "str_ciudades = [\"Bogota\", \"Medellin\", \"Cali\", \"Barranquilla\"]\n",
        "mes_mayo = meses.index(\"mayo\")\n",
        "temp = []\n",
        "for i, ciu in enumerate(ciudades):\n",
        "  temp.append(ciu[mes_mayo])\n",
        "  if temp[i] >= 25 and temp[i] <= 27:\n",
        "    print(\"La temperatura entre 25 y 27 °C es\", temp[i], \"°C y se registró en la ciudad\", str_ciudades[i])"
      ]
    },
    {
      "cell_type": "markdown",
      "metadata": {
        "id": "ypKSiXCq68in"
      },
      "source": [
        "## b. "
      ]
    },
    {
      "cell_type": "markdown",
      "metadata": {
        "id": "gD03IsOk7MSB"
      },
      "source": [
        "Se desea conocer la ciudad y el mes en el cual la temperatura fue superior a 31 grados\n",
        "centígrados."
      ]
    },
    {
      "cell_type": "code",
      "execution_count": 134,
      "metadata": {},
      "outputs": [
        {
          "name": "stdout",
          "output_type": "stream",
          "text": [
            "[['meses' 'enero' 'febrero' 'marzo' 'abril' 'mayo' 'junio' 'julio'\n",
            "  'agosto' 'septiembre' 'octubre' 'noviembre' 'diciembre']\n",
            " ['Bogota' '19' '19' '19' '18' '18' '18' '17' '17' '18' '18' '18' '19']\n",
            " ['Medellin' '25' '25' '25' '25' '26' '26' '26' '26' '25' '25' '25' '25']\n",
            " ['Cali' '29' '29' '29' '28' '28' '28' '29' '29' '29' '28' '28' '28']\n",
            " ['Barranquilla' '30' '30' '31' '31' '32' '32' '32' '32' '32' '31' '31'\n",
            "  '30']]\n"
          ]
        }
      ],
      "source": [
        "meses = [\"meses\", \"enero\", \"febrero\", \"marzo\", \"abril\", \"mayo\", \"junio\", \"julio\",\"agosto\", \"septiembre\", \"octubre\", \"noviembre\", \"diciembre\"]\n",
        "Bogota = [\"Bogota\",19, 19,19,18,18,18,17,17,18,18,18,19]\n",
        "Medellin = [\"Medellin\",25,25,25,25,26,26,26,26,25,25,25,25]\n",
        "Cali = [\"Cali\",29,29,29,28,28,28,29,29,29,28,28,28]\n",
        "Barranquilla = [\"Barranquilla\",30,30,31,31,32,32,32,32,32,31,31,30]\n",
        "temperaturas = np.array([meses,Bogota,Medellin, Cali, Barranquilla])\n",
        "print(temperaturas)"
      ]
    },
    {
      "cell_type": "code",
      "execution_count": 135,
      "metadata": {
        "colab": {
          "base_uri": "https://localhost:8080/"
        },
        "id": "EK8kaPjY6wuZ",
        "outputId": "19c5fc70-122e-4113-f76d-df258dc8d2e8"
      },
      "outputs": [
        {
          "name": "stdout",
          "output_type": "stream",
          "text": [
            "Temperaturas mayores a 31 °C se presentaron en el mes de mayo y en Barranquilla\n",
            "Temperaturas mayores a 31 °C se presentaron en el mes de junio y en Barranquilla\n",
            "Temperaturas mayores a 31 °C se presentaron en el mes de julio y en Barranquilla\n",
            "Temperaturas mayores a 31 °C se presentaron en el mes de agosto y en Barranquilla\n",
            "Temperaturas mayores a 31 °C se presentaron en el mes de septiembre y en Barranquilla\n"
          ]
        }
      ],
      "source": [
        "\n",
        "for i in range(1,len(temperaturas)):\n",
        "  for j in range(1,len(temperaturas[0,:])):\n",
        "    if temperaturas[i][j] == \"32\":\n",
        "      print(f'Temperaturas mayores a 31 °C se presentaron en el mes de {temperaturas[0][j]} y en {temperaturas[i][0]}')\n",
        "  \n"
      ]
    }
  ],
  "metadata": {
    "colab": {
      "provenance": []
    },
    "kernelspec": {
      "display_name": "Python 3",
      "language": "python",
      "name": "python3"
    },
    "language_info": {
      "codemirror_mode": {
        "name": "ipython",
        "version": 3
      },
      "file_extension": ".py",
      "mimetype": "text/x-python",
      "name": "python",
      "nbconvert_exporter": "python",
      "pygments_lexer": "ipython3",
      "version": "3.10.4"
    },
    "vscode": {
      "interpreter": {
        "hash": "3ad933181bd8a04b432d3370b9dc3b0662ad032c4dfaa4e4f1596c548f763858"
      }
    }
  },
  "nbformat": 4,
  "nbformat_minor": 0
}
