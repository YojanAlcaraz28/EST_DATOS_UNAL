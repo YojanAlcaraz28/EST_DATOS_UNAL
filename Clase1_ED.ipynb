{
  "nbformat": 4,
  "nbformat_minor": 0,
  "metadata": {
    "colab": {
      "provenance": [],
      "authorship_tag": "ABX9TyPQ9KEwsSVWNPtUYohIAeWS",
      "include_colab_link": true
    },
    "kernelspec": {
      "name": "python3",
      "display_name": "Python 3"
    },
    "language_info": {
      "name": "python"
    }
  },
  "cells": [
    {
      "cell_type": "markdown",
      "metadata": {
        "id": "view-in-github",
        "colab_type": "text"
      },
      "source": [
        "<a href=\"https://colab.research.google.com/github/YojanAlcaraz28/EST_DATOS_UNAL/blob/main/Clase1_ED.ipynb\" target=\"_parent\"><img src=\"https://colab.research.google.com/assets/colab-badge.svg\" alt=\"Open In Colab\"/></a>"
      ]
    },
    {
      "cell_type": "code",
      "execution_count": null,
      "metadata": {
        "id": "KH8EMqQ7qUqV"
      },
      "outputs": [],
      "source": [
        "## Arreglos:"
      ]
    },
    {
      "cell_type": "code",
      "source": [
        "import numpy as np\n",
        "\n",
        "# Matriz:\n",
        "matriz = np.array([[0.0,0.1,0.2,0.3],[1.0,1.1,1.2,1.3],[2.0,2.1,2.2,2.3],[3.0,3.1,3.2,3.3]])\n",
        "matriz"
      ],
      "metadata": {
        "colab": {
          "base_uri": "https://localhost:8080/"
        },
        "id": "gJZBgovnqbD5",
        "outputId": "d5bad782-c200-48fe-b032-9a0347a6ca98"
      },
      "execution_count": 2,
      "outputs": [
        {
          "output_type": "execute_result",
          "data": {
            "text/plain": [
              "array([[0. , 0.1, 0.2, 0.3],\n",
              "       [1. , 1.1, 1.2, 1.3],\n",
              "       [2. , 2.1, 2.2, 2.3],\n",
              "       [3. , 3.1, 3.2, 3.3]])"
            ]
          },
          "metadata": {},
          "execution_count": 2
        }
      ]
    },
    {
      "cell_type": "code",
      "source": [
        "# Diagonal principal:\n",
        "diagonal = []\n",
        "for i in range(len(matriz)):\n",
        "  pos = matriz[i][i]\n",
        "  diagonal.append(pos)\n",
        "diagonal"
      ],
      "metadata": {
        "colab": {
          "base_uri": "https://localhost:8080/"
        },
        "id": "g3rOJbXFrPDP",
        "outputId": "bb4cce36-6a3c-491b-c3bf-5e401b784026"
      },
      "execution_count": null,
      "outputs": [
        {
          "output_type": "execute_result",
          "data": {
            "text/plain": [
              "[0.0, 1.1, 2.2, 3.3]"
            ]
          },
          "metadata": {},
          "execution_count": 34
        }
      ]
    },
    {
      "cell_type": "code",
      "source": [
        "# Diagonal secundaria:\n",
        "diagonal_sec = []\n",
        "for i in range(len(matriz)):\n",
        "  for j in range(len(matriz)):\n",
        "    if i+j == 3:\n",
        "      pos_2 = matriz[i][j]\n",
        "      diagonal_sec.append(pos_2)\n",
        "diagonal_sec\n",
        "\n",
        "lon = len(diagonal_sec)\n",
        "diagonal_2 = []\n",
        "for i in range(lon-1, -1, -1):\n",
        "  diagonal_2.append(diagonal_sec[i])\n",
        "print(diagonal_2)"
      ],
      "metadata": {
        "colab": {
          "base_uri": "https://localhost:8080/"
        },
        "id": "hBIo8dmTtiW3",
        "outputId": "2b1dc688-9dec-4915-88ce-8d5b57a9865a"
      },
      "execution_count": 10,
      "outputs": [
        {
          "output_type": "stream",
          "name": "stdout",
          "text": [
            "[3.0, 2.1, 1.2, 0.3]\n"
          ]
        }
      ]
    },
    {
      "cell_type": "code",
      "source": [
        "# Elementos intermedios:\n",
        "elementos_int = []\n",
        "for i in range(len(matriz)):\n",
        "  for j in range(len(matriz)):\n",
        "    if i == 0 and j >= 1 and j <= 2:\n",
        "      elementos_int.append(matriz[i][j])\n",
        "    if (i == 1 and j == 0) or (i == 1 and j == 3):\n",
        "      elementos_int.append(matriz[i][j])\n",
        "    if (i == 2 and j == 0) or (i == 2 and j == 3):\n",
        "      elementos_int.append(matriz[i][j])\n",
        "    if i == 3 and j >= 1 and j <= 2:\n",
        "      elementos_int.append(matriz[i][j])\n",
        "elementos_int  "
      ],
      "metadata": {
        "colab": {
          "base_uri": "https://localhost:8080/"
        },
        "id": "0xdlPKp8u1IU",
        "outputId": "a9cb5e26-4fa8-4423-9afe-bd912faaed31"
      },
      "execution_count": 25,
      "outputs": [
        {
          "output_type": "execute_result",
          "data": {
            "text/plain": [
              "[0.1, 0.2, 1.0, 1.3, 2.0, 2.3, 3.1, 3.2]"
            ]
          },
          "metadata": {},
          "execution_count": 25
        }
      ]
    },
    {
      "cell_type": "code",
      "source": [
        "# Bordes de la matriz en sentido de las manecillas del reloj:\n",
        "bordes = []\n",
        "for i in range(len(matriz)):\n",
        "  for j in range(len(matriz)):\n",
        "    if i == 0:\n",
        "      bordes.append(matriz[i][j])\n",
        "    if j == 3 and i >= 1:\n",
        "      bordes.append(matriz[i][j])\n",
        "    if i == 3:\n",
        "      bordes.append(matriz[i][j])\n",
        "    if j == 0 and i >= 1 and i <= 2:\n",
        "      bordes.append(matriz[i][j])\n",
        "bordes"
      ],
      "metadata": {
        "colab": {
          "base_uri": "https://localhost:8080/"
        },
        "id": "X9XCsEVvwc6b",
        "outputId": "7dcfb738-46b4-45c7-e36d-25605e3fa5e5"
      },
      "execution_count": 27,
      "outputs": [
        {
          "output_type": "execute_result",
          "data": {
            "text/plain": [
              "[0.0, 0.1, 0.2, 0.3, 1.0, 1.3, 2.0, 2.3, 3.0, 3.1, 3.2, 3.3, 3.3]"
            ]
          },
          "metadata": {},
          "execution_count": 27
        }
      ]
    }
  ]
}