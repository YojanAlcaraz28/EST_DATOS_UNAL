{
 "cells": [
  {
   "attachments": {},
   "cell_type": "markdown",
   "metadata": {},
   "source": [
    "## Búsqueda binaria y ordenamiento\n"
   ]
  },
  {
   "cell_type": "markdown",
   "metadata": {},
   "source": [
    "### 20 edades"
   ]
  },
  {
   "cell_type": "code",
   "execution_count": 1,
   "metadata": {},
   "outputs": [],
   "source": [
    "import random"
   ]
  },
  {
   "cell_type": "code",
   "execution_count": 5,
   "metadata": {},
   "outputs": [
    {
     "name": "stdout",
     "output_type": "stream",
     "text": [
      "La semilla seleccionada es  4\n",
      "La longitud de edades es 20 y la lista es: [20, 22, 16, 36, 25, 28, 17, 15, 40, 13, 39, 30, 42, 14, 43, 24, 37, 33, 35, 32]\n"
     ]
    }
   ],
   "source": [
    "# Generar 20 edades:\n",
    "semillas = list(range(2,10))\n",
    "for i in semillas:\n",
    "    # Establecer una semilla\n",
    "    random.seed(i)\n",
    "    edades = random.sample(range(13,44),20)\n",
    "    if 16 in edades:\n",
    "        print(\"La semilla seleccionada es \",i)\n",
    "        print(\"La longitud de edades es\", len(edades), \"y la lista es:\", edades)\n",
    "        break;\n",
    "\n",
    "\n"
   ]
  },
  {
   "cell_type": "code",
   "execution_count": 6,
   "metadata": {},
   "outputs": [],
   "source": [
    "# Función algoritmo ordenamiento por selección:\n",
    "def ord_selec(arreglo):\n",
    "    for i in range(len(arreglo)-1):\n",
    "        for j in range(i+1, len(arreglo)):\n",
    "            if arreglo[i] > arreglo[j]:\n",
    "                arreglo[i], arreglo[j] = arreglo[j], arreglo[i]\n",
    "    return arreglo"
   ]
  },
  {
   "cell_type": "code",
   "execution_count": 8,
   "metadata": {},
   "outputs": [
    {
     "name": "stdout",
     "output_type": "stream",
     "text": [
      "La lista ordenada es: [13, 14, 15, 16, 17, 20, 22, 24, 25, 28, 30, 32, 33, 35, 36, 37, 39, 40, 42, 43]\n",
      "La edad 16 está en la posición 3\n",
      "La edad en la posición 3 es 16\n"
     ]
    }
   ],
   "source": [
    "orden_edad = ord_selec(edades)\n",
    "print(\"La lista ordenada es:\",orden_edad)\n",
    "posicion = orden_edad.index(16)\n",
    "print(\"La edad 16 está en la posición\", posicion)\n",
    "print(\"La edad en la posición\" , posicion, \"es\",orden_edad[posicion])"
   ]
  },
  {
   "attachments": {},
   "cell_type": "markdown",
   "metadata": {},
   "source": [
    "# 10 empleados"
   ]
  },
  {
   "cell_type": "code",
   "execution_count": null,
   "metadata": {},
   "outputs": [],
   "source": []
  },
  {
   "attachments": {},
   "cell_type": "markdown",
   "metadata": {},
   "source": [
    "# 200 usuarios morosos"
   ]
  },
  {
   "cell_type": "code",
   "execution_count": 148,
   "metadata": {},
   "outputs": [
    {
     "name": "stdout",
     "output_type": "stream",
     "text": [
      "200\n",
      "200\n"
     ]
    }
   ],
   "source": [
    "# Generar 200 usuarios:\n",
    "random.seed(5)\n",
    "id_usuario = random.sample(range(12345,12660),200)\n",
    "print(len(id_usuario))\n",
    "\n",
    "# ¿Está repitiendo usuarios?\n",
    "repeated = set(id_usuario)\n",
    "print(len(repeated))\n",
    "\n",
    "# Ordenar la lista\n",
    "id_usuarios =  ord_selec(id_usuario)"
   ]
  },
  {
   "cell_type": "code",
   "execution_count": 150,
   "metadata": {},
   "outputs": [
    {
     "name": "stdout",
     "output_type": "stream",
     "text": [
      "El posible nuevo usuario tiene id 12645\n",
      "El usuario con id 12645  es APTO para préstamo\n"
     ]
    }
   ],
   "source": [
    "# Usuario en cuestión:\n",
    "cedula = random.sample(range(12345,12660),1)\n",
    "cedula = cedula[0]\n",
    "print(\"El posible nuevo usuario tiene id\",cedula)\n",
    "\n",
    "# ¿El usuario es moroso?\n",
    "if cedula in id_usuarios:\n",
    "    print(\"El usuario con id\", cedula, \" es MOROSO\")\n",
    "else:\n",
    "    print(\"El usuario con id\", cedula, \" es APTO para préstamo\")"
   ]
  }
 ],
 "metadata": {
  "kernelspec": {
   "display_name": "Python 3",
   "language": "python",
   "name": "python3"
  },
  "language_info": {
   "codemirror_mode": {
    "name": "ipython",
    "version": 3
   },
   "file_extension": ".py",
   "mimetype": "text/x-python",
   "name": "python",
   "nbconvert_exporter": "python",
   "pygments_lexer": "ipython3",
   "version": "3.10.4"
  },
  "orig_nbformat": 4,
  "vscode": {
   "interpreter": {
    "hash": "3ad933181bd8a04b432d3370b9dc3b0662ad032c4dfaa4e4f1596c548f763858"
   }
  }
 },
 "nbformat": 4,
 "nbformat_minor": 2
}
